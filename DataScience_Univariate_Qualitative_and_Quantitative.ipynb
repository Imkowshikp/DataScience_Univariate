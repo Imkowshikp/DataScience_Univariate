{
 "cells": [
  {
   "cell_type": "markdown",
   "id": "fc3954d9",
   "metadata": {},
   "source": [
    "\n",
    "# Kowshik P \n",
    "\n",
    "## Data Science \n",
    "## -----------------------------------------------------------------------------\n",
    "## Concept - Univariate Data Analysis(Qualitative and Quantitative)\n",
    "## Submitted date on 07-May-2022\n",
    "## -----------------------------------------------------------------------------\n"
   ]
  },
  {
   "cell_type": "markdown",
   "id": "75c167ce",
   "metadata": {},
   "source": [
    "## Importing the libraries required for this project."
   ]
  },
  {
   "cell_type": "code",
   "execution_count": 1,
   "id": "21dcb201",
   "metadata": {},
   "outputs": [],
   "source": [
    "import pandas as pd;\n",
    "import numpy as np;\n",
    "import matplotlib.pyplot as mat;"
   ]
  },
  {
   "cell_type": "markdown",
   "id": "a28a9213",
   "metadata": {},
   "source": [
    "## Convert the raw file(.csv) to table format."
   ]
  },
  {
   "cell_type": "code",
   "execution_count": 2,
   "id": "c68445b7",
   "metadata": {},
   "outputs": [
    {
     "data": {
      "text/html": [
       "<div>\n",
       "<style scoped>\n",
       "    .dataframe tbody tr th:only-of-type {\n",
       "        vertical-align: middle;\n",
       "    }\n",
       "\n",
       "    .dataframe tbody tr th {\n",
       "        vertical-align: top;\n",
       "    }\n",
       "\n",
       "    .dataframe thead th {\n",
       "        text-align: right;\n",
       "    }\n",
       "</style>\n",
       "<table border=\"1\" class=\"dataframe\">\n",
       "  <thead>\n",
       "    <tr style=\"text-align: right;\">\n",
       "      <th></th>\n",
       "      <th>sl_no</th>\n",
       "      <th>gender</th>\n",
       "      <th>ssc_p</th>\n",
       "      <th>ssc_b</th>\n",
       "      <th>hsc_p</th>\n",
       "      <th>hsc_b</th>\n",
       "      <th>hsc_s</th>\n",
       "      <th>degree_p</th>\n",
       "      <th>degree_t</th>\n",
       "      <th>workex</th>\n",
       "      <th>etest_p</th>\n",
       "      <th>specialisation</th>\n",
       "      <th>mba_p</th>\n",
       "      <th>status</th>\n",
       "      <th>salary</th>\n",
       "    </tr>\n",
       "  </thead>\n",
       "  <tbody>\n",
       "    <tr>\n",
       "      <th>0</th>\n",
       "      <td>1</td>\n",
       "      <td>M</td>\n",
       "      <td>67.00</td>\n",
       "      <td>Others</td>\n",
       "      <td>91.00</td>\n",
       "      <td>Others</td>\n",
       "      <td>Commerce</td>\n",
       "      <td>58.00</td>\n",
       "      <td>Sci&amp;Tech</td>\n",
       "      <td>No</td>\n",
       "      <td>55.0</td>\n",
       "      <td>Mkt&amp;HR</td>\n",
       "      <td>58.80</td>\n",
       "      <td>Placed</td>\n",
       "      <td>270000.0</td>\n",
       "    </tr>\n",
       "    <tr>\n",
       "      <th>1</th>\n",
       "      <td>2</td>\n",
       "      <td>M</td>\n",
       "      <td>79.33</td>\n",
       "      <td>Central</td>\n",
       "      <td>78.33</td>\n",
       "      <td>Others</td>\n",
       "      <td>Science</td>\n",
       "      <td>77.48</td>\n",
       "      <td>Sci&amp;Tech</td>\n",
       "      <td>Yes</td>\n",
       "      <td>86.5</td>\n",
       "      <td>Mkt&amp;Fin</td>\n",
       "      <td>66.28</td>\n",
       "      <td>Placed</td>\n",
       "      <td>200000.0</td>\n",
       "    </tr>\n",
       "    <tr>\n",
       "      <th>2</th>\n",
       "      <td>3</td>\n",
       "      <td>M</td>\n",
       "      <td>65.00</td>\n",
       "      <td>Central</td>\n",
       "      <td>68.00</td>\n",
       "      <td>Central</td>\n",
       "      <td>Arts</td>\n",
       "      <td>64.00</td>\n",
       "      <td>Comm&amp;Mgmt</td>\n",
       "      <td>No</td>\n",
       "      <td>75.0</td>\n",
       "      <td>Mkt&amp;Fin</td>\n",
       "      <td>57.80</td>\n",
       "      <td>Placed</td>\n",
       "      <td>250000.0</td>\n",
       "    </tr>\n",
       "    <tr>\n",
       "      <th>3</th>\n",
       "      <td>4</td>\n",
       "      <td>M</td>\n",
       "      <td>56.00</td>\n",
       "      <td>Central</td>\n",
       "      <td>52.00</td>\n",
       "      <td>Central</td>\n",
       "      <td>Science</td>\n",
       "      <td>52.00</td>\n",
       "      <td>Sci&amp;Tech</td>\n",
       "      <td>No</td>\n",
       "      <td>66.0</td>\n",
       "      <td>Mkt&amp;HR</td>\n",
       "      <td>59.43</td>\n",
       "      <td>Not Placed</td>\n",
       "      <td>NaN</td>\n",
       "    </tr>\n",
       "    <tr>\n",
       "      <th>4</th>\n",
       "      <td>5</td>\n",
       "      <td>M</td>\n",
       "      <td>85.80</td>\n",
       "      <td>Central</td>\n",
       "      <td>73.60</td>\n",
       "      <td>Central</td>\n",
       "      <td>Commerce</td>\n",
       "      <td>73.30</td>\n",
       "      <td>Comm&amp;Mgmt</td>\n",
       "      <td>No</td>\n",
       "      <td>96.8</td>\n",
       "      <td>Mkt&amp;Fin</td>\n",
       "      <td>55.50</td>\n",
       "      <td>Placed</td>\n",
       "      <td>425000.0</td>\n",
       "    </tr>\n",
       "    <tr>\n",
       "      <th>...</th>\n",
       "      <td>...</td>\n",
       "      <td>...</td>\n",
       "      <td>...</td>\n",
       "      <td>...</td>\n",
       "      <td>...</td>\n",
       "      <td>...</td>\n",
       "      <td>...</td>\n",
       "      <td>...</td>\n",
       "      <td>...</td>\n",
       "      <td>...</td>\n",
       "      <td>...</td>\n",
       "      <td>...</td>\n",
       "      <td>...</td>\n",
       "      <td>...</td>\n",
       "      <td>...</td>\n",
       "    </tr>\n",
       "    <tr>\n",
       "      <th>210</th>\n",
       "      <td>211</td>\n",
       "      <td>M</td>\n",
       "      <td>80.60</td>\n",
       "      <td>Others</td>\n",
       "      <td>82.00</td>\n",
       "      <td>Others</td>\n",
       "      <td>Commerce</td>\n",
       "      <td>77.60</td>\n",
       "      <td>Comm&amp;Mgmt</td>\n",
       "      <td>No</td>\n",
       "      <td>91.0</td>\n",
       "      <td>Mkt&amp;Fin</td>\n",
       "      <td>74.49</td>\n",
       "      <td>Placed</td>\n",
       "      <td>400000.0</td>\n",
       "    </tr>\n",
       "    <tr>\n",
       "      <th>211</th>\n",
       "      <td>212</td>\n",
       "      <td>M</td>\n",
       "      <td>58.00</td>\n",
       "      <td>Others</td>\n",
       "      <td>60.00</td>\n",
       "      <td>Others</td>\n",
       "      <td>Science</td>\n",
       "      <td>72.00</td>\n",
       "      <td>Sci&amp;Tech</td>\n",
       "      <td>No</td>\n",
       "      <td>74.0</td>\n",
       "      <td>Mkt&amp;Fin</td>\n",
       "      <td>53.62</td>\n",
       "      <td>Placed</td>\n",
       "      <td>275000.0</td>\n",
       "    </tr>\n",
       "    <tr>\n",
       "      <th>212</th>\n",
       "      <td>213</td>\n",
       "      <td>M</td>\n",
       "      <td>67.00</td>\n",
       "      <td>Others</td>\n",
       "      <td>67.00</td>\n",
       "      <td>Others</td>\n",
       "      <td>Commerce</td>\n",
       "      <td>73.00</td>\n",
       "      <td>Comm&amp;Mgmt</td>\n",
       "      <td>Yes</td>\n",
       "      <td>59.0</td>\n",
       "      <td>Mkt&amp;Fin</td>\n",
       "      <td>69.72</td>\n",
       "      <td>Placed</td>\n",
       "      <td>295000.0</td>\n",
       "    </tr>\n",
       "    <tr>\n",
       "      <th>213</th>\n",
       "      <td>214</td>\n",
       "      <td>F</td>\n",
       "      <td>74.00</td>\n",
       "      <td>Others</td>\n",
       "      <td>66.00</td>\n",
       "      <td>Others</td>\n",
       "      <td>Commerce</td>\n",
       "      <td>58.00</td>\n",
       "      <td>Comm&amp;Mgmt</td>\n",
       "      <td>No</td>\n",
       "      <td>70.0</td>\n",
       "      <td>Mkt&amp;HR</td>\n",
       "      <td>60.23</td>\n",
       "      <td>Placed</td>\n",
       "      <td>204000.0</td>\n",
       "    </tr>\n",
       "    <tr>\n",
       "      <th>214</th>\n",
       "      <td>215</td>\n",
       "      <td>M</td>\n",
       "      <td>62.00</td>\n",
       "      <td>Central</td>\n",
       "      <td>58.00</td>\n",
       "      <td>Others</td>\n",
       "      <td>Science</td>\n",
       "      <td>53.00</td>\n",
       "      <td>Comm&amp;Mgmt</td>\n",
       "      <td>No</td>\n",
       "      <td>89.0</td>\n",
       "      <td>Mkt&amp;HR</td>\n",
       "      <td>60.22</td>\n",
       "      <td>Not Placed</td>\n",
       "      <td>NaN</td>\n",
       "    </tr>\n",
       "  </tbody>\n",
       "</table>\n",
       "<p>215 rows × 15 columns</p>\n",
       "</div>"
      ],
      "text/plain": [
       "     sl_no gender  ssc_p    ssc_b  hsc_p    hsc_b     hsc_s  degree_p  \\\n",
       "0        1      M  67.00   Others  91.00   Others  Commerce     58.00   \n",
       "1        2      M  79.33  Central  78.33   Others   Science     77.48   \n",
       "2        3      M  65.00  Central  68.00  Central      Arts     64.00   \n",
       "3        4      M  56.00  Central  52.00  Central   Science     52.00   \n",
       "4        5      M  85.80  Central  73.60  Central  Commerce     73.30   \n",
       "..     ...    ...    ...      ...    ...      ...       ...       ...   \n",
       "210    211      M  80.60   Others  82.00   Others  Commerce     77.60   \n",
       "211    212      M  58.00   Others  60.00   Others   Science     72.00   \n",
       "212    213      M  67.00   Others  67.00   Others  Commerce     73.00   \n",
       "213    214      F  74.00   Others  66.00   Others  Commerce     58.00   \n",
       "214    215      M  62.00  Central  58.00   Others   Science     53.00   \n",
       "\n",
       "      degree_t workex  etest_p specialisation  mba_p      status    salary  \n",
       "0     Sci&Tech     No     55.0         Mkt&HR  58.80      Placed  270000.0  \n",
       "1     Sci&Tech    Yes     86.5        Mkt&Fin  66.28      Placed  200000.0  \n",
       "2    Comm&Mgmt     No     75.0        Mkt&Fin  57.80      Placed  250000.0  \n",
       "3     Sci&Tech     No     66.0         Mkt&HR  59.43  Not Placed       NaN  \n",
       "4    Comm&Mgmt     No     96.8        Mkt&Fin  55.50      Placed  425000.0  \n",
       "..         ...    ...      ...            ...    ...         ...       ...  \n",
       "210  Comm&Mgmt     No     91.0        Mkt&Fin  74.49      Placed  400000.0  \n",
       "211   Sci&Tech     No     74.0        Mkt&Fin  53.62      Placed  275000.0  \n",
       "212  Comm&Mgmt    Yes     59.0        Mkt&Fin  69.72      Placed  295000.0  \n",
       "213  Comm&Mgmt     No     70.0         Mkt&HR  60.23      Placed  204000.0  \n",
       "214  Comm&Mgmt     No     89.0         Mkt&HR  60.22  Not Placed       NaN  \n",
       "\n",
       "[215 rows x 15 columns]"
      ]
     },
     "execution_count": 2,
     "metadata": {},
     "output_type": "execute_result"
    }
   ],
   "source": [
    "rawData = pd.read_csv(\"Placement.csv\");\n",
    "\n",
    "rawData"
   ]
  },
  {
   "cell_type": "markdown",
   "id": "2ccb22cc",
   "metadata": {},
   "source": [
    "## Finding data types for each column using the info() function."
   ]
  },
  {
   "cell_type": "code",
   "execution_count": 3,
   "id": "7721e8ca",
   "metadata": {},
   "outputs": [
    {
     "name": "stdout",
     "output_type": "stream",
     "text": [
      "<class 'pandas.core.frame.DataFrame'>\n",
      "RangeIndex: 215 entries, 0 to 214\n",
      "Data columns (total 15 columns):\n",
      "sl_no             215 non-null int64\n",
      "gender            215 non-null object\n",
      "ssc_p             215 non-null float64\n",
      "ssc_b             215 non-null object\n",
      "hsc_p             215 non-null float64\n",
      "hsc_b             215 non-null object\n",
      "hsc_s             215 non-null object\n",
      "degree_p          215 non-null float64\n",
      "degree_t          215 non-null object\n",
      "workex            215 non-null object\n",
      "etest_p           215 non-null float64\n",
      "specialisation    215 non-null object\n",
      "mba_p             215 non-null float64\n",
      "status            215 non-null object\n",
      "salary            148 non-null float64\n",
      "dtypes: float64(6), int64(1), object(8)\n",
      "memory usage: 25.3+ KB\n"
     ]
    }
   ],
   "source": [
    "rawData.info();"
   ]
  },
  {
   "cell_type": "markdown",
   "id": "34c12051",
   "metadata": {},
   "source": [
    "## Finding data type for individual column using the dtypes function."
   ]
  },
  {
   "cell_type": "code",
   "execution_count": 4,
   "id": "52ce6db9",
   "metadata": {},
   "outputs": [
    {
     "data": {
      "text/plain": [
       "dtype('O')"
      ]
     },
     "execution_count": 4,
     "metadata": {},
     "output_type": "execute_result"
    }
   ],
   "source": [
    "rawData[\"workex\"].dtypes\n"
   ]
  },
  {
   "cell_type": "code",
   "execution_count": 5,
   "id": "282d254e",
   "metadata": {},
   "outputs": [
    {
     "data": {
      "text/plain": [
       "dtype('float64')"
      ]
     },
     "execution_count": 5,
     "metadata": {},
     "output_type": "execute_result"
    }
   ],
   "source": [
    "rawData[\"degree_p\"].dtypes"
   ]
  },
  {
   "cell_type": "markdown",
   "id": "0c15def4",
   "metadata": {},
   "source": [
    "## Obtain columns from the \"Placement\" file"
   ]
  },
  {
   "cell_type": "code",
   "execution_count": 6,
   "id": "95b576ec",
   "metadata": {},
   "outputs": [
    {
     "data": {
      "text/plain": [
       "Index(['sl_no', 'gender', 'ssc_p', 'ssc_b', 'hsc_p', 'hsc_b', 'hsc_s',\n",
       "       'degree_p', 'degree_t', 'workex', 'etest_p', 'specialisation', 'mba_p',\n",
       "       'status', 'salary'],\n",
       "      dtype='object')"
      ]
     },
     "execution_count": 6,
     "metadata": {},
     "output_type": "execute_result"
    }
   ],
   "source": [
    "rawData.columns"
   ]
  },
  {
   "cell_type": "markdown",
   "id": "abd963e6",
   "metadata": {},
   "source": [
    "## Segregate Qual and Quan for the respective columns"
   ]
  },
  {
   "cell_type": "code",
   "execution_count": 7,
   "id": "c8945d58",
   "metadata": {},
   "outputs": [
    {
     "name": "stdout",
     "output_type": "stream",
     "text": [
      "sl_no\n",
      "Quantitative\n",
      "gender\n",
      "Qualitative\n",
      "ssc_p\n",
      "Quantitative\n",
      "ssc_b\n",
      "Qualitative\n",
      "hsc_p\n",
      "Quantitative\n",
      "hsc_b\n",
      "Qualitative\n",
      "hsc_s\n",
      "Qualitative\n",
      "degree_p\n",
      "Quantitative\n",
      "degree_t\n",
      "Qualitative\n",
      "workex\n",
      "Qualitative\n",
      "etest_p\n",
      "Quantitative\n",
      "specialisation\n",
      "Qualitative\n",
      "mba_p\n",
      "Quantitative\n",
      "status\n",
      "Qualitative\n",
      "salary\n",
      "Quantitative\n"
     ]
    }
   ],
   "source": [
    "for columnInformation in rawData.columns:\n",
    "    \n",
    "    print(columnInformation);\n",
    "    \n",
    "    if(rawData[columnInformation].dtypes == \"O\"):\n",
    "        print(\"Qualitative\");\n",
    "    else:\n",
    "        print(\"Quantitative\");\n",
    "    \n",
    "        \n",
    "    \n",
    "    "
   ]
  },
  {
   "cell_type": "markdown",
   "id": "51042678",
   "metadata": {},
   "source": [
    "## Set array for Qual and Quan"
   ]
  },
  {
   "cell_type": "code",
   "execution_count": 8,
   "id": "c632f7b7",
   "metadata": {},
   "outputs": [],
   "source": [
    "qual_Data = []\n",
    "\n",
    "quan_Data = []\n",
    "\n",
    "\n",
    "#qual_Data, quan_Data"
   ]
  },
  {
   "cell_type": "markdown",
   "id": "ffa8a007",
   "metadata": {},
   "source": [
    "## Append qual an quan data to the respective list."
   ]
  },
  {
   "cell_type": "code",
   "execution_count": 9,
   "id": "2b03342e",
   "metadata": {},
   "outputs": [
    {
     "name": "stdout",
     "output_type": "stream",
     "text": [
      "sl_no\n",
      "gender\n",
      "ssc_p\n",
      "ssc_b\n",
      "hsc_p\n",
      "hsc_b\n",
      "hsc_s\n",
      "degree_p\n",
      "degree_t\n",
      "workex\n",
      "etest_p\n",
      "specialisation\n",
      "mba_p\n",
      "status\n",
      "salary\n"
     ]
    }
   ],
   "source": [
    "\n",
    "for columnInformation in rawData.columns:\n",
    "    \n",
    "    print(columnInformation)\n",
    "    \n",
    "    if(rawData[columnInformation].dtypes == \"O\"):\n",
    "        \n",
    "        qual_Data.append(columnInformation)\n",
    "        \n",
    "    else:\n",
    "        \n",
    "        quan_Data.append(columnInformation)\n",
    "        \n"
   ]
  },
  {
   "cell_type": "markdown",
   "id": "ac315260",
   "metadata": {},
   "source": [
    "## Seperated Quantitative data columns(Numeric columns)"
   ]
  },
  {
   "cell_type": "code",
   "execution_count": 10,
   "id": "e6f9d2af",
   "metadata": {},
   "outputs": [
    {
     "data": {
      "text/plain": [
       "['sl_no', 'ssc_p', 'hsc_p', 'degree_p', 'etest_p', 'mba_p', 'salary']"
      ]
     },
     "execution_count": 10,
     "metadata": {},
     "output_type": "execute_result"
    }
   ],
   "source": [
    "quan_Data"
   ]
  },
  {
   "cell_type": "markdown",
   "id": "3ffbb589",
   "metadata": {},
   "source": [
    "## Total length of Quantitative data."
   ]
  },
  {
   "cell_type": "code",
   "execution_count": 11,
   "id": "0ef23560",
   "metadata": {},
   "outputs": [
    {
     "data": {
      "text/plain": [
       "7"
      ]
     },
     "execution_count": 11,
     "metadata": {},
     "output_type": "execute_result"
    }
   ],
   "source": [
    "len(quan_Data)"
   ]
  },
  {
   "cell_type": "markdown",
   "id": "e493b205",
   "metadata": {},
   "source": [
    "## Seperated Qualitative data columns(Categoric columns)"
   ]
  },
  {
   "cell_type": "code",
   "execution_count": 12,
   "id": "722d30a2",
   "metadata": {},
   "outputs": [
    {
     "data": {
      "text/plain": [
       "['gender',\n",
       " 'ssc_b',\n",
       " 'hsc_b',\n",
       " 'hsc_s',\n",
       " 'degree_t',\n",
       " 'workex',\n",
       " 'specialisation',\n",
       " 'status']"
      ]
     },
     "execution_count": 12,
     "metadata": {},
     "output_type": "execute_result"
    }
   ],
   "source": [
    "qual_Data"
   ]
  },
  {
   "cell_type": "markdown",
   "id": "2f72bca9",
   "metadata": {},
   "source": [
    "## Total length of Qualitative data."
   ]
  },
  {
   "cell_type": "code",
   "execution_count": 13,
   "id": "bfb808bd",
   "metadata": {},
   "outputs": [
    {
     "data": {
      "text/plain": [
       "8"
      ]
     },
     "execution_count": 13,
     "metadata": {},
     "output_type": "execute_result"
    }
   ],
   "source": [
    "len(qual_Data)"
   ]
  },
  {
   "cell_type": "markdown",
   "id": "bd30eda3",
   "metadata": {},
   "source": [
    "## Creating a function"
   ]
  },
  {
   "cell_type": "code",
   "execution_count": 14,
   "id": "3d6d9e62",
   "metadata": {},
   "outputs": [
    {
     "name": "stdout",
     "output_type": "stream",
     "text": [
      "sl_no\n",
      "gender\n",
      "ssc_p\n",
      "ssc_b\n",
      "hsc_p\n",
      "hsc_b\n",
      "hsc_s\n",
      "degree_p\n",
      "degree_t\n",
      "workex\n",
      "etest_p\n",
      "specialisation\n",
      "mba_p\n",
      "status\n",
      "salary\n"
     ]
    }
   ],
   "source": [
    "def putQualitativeQuantitative():\n",
    "    \n",
    "    qual_Data = [];\n",
    "\n",
    "    quan_Data = [];\n",
    "\n",
    "    for columnInformation in rawData.columns:\n",
    "\n",
    "        print(columnInformation);\n",
    "\n",
    "        if(rawData[columnInformation].dtypes == \"O\"):\n",
    "\n",
    "            qual_Data.append(columnInformation);\n",
    "\n",
    "        else:\n",
    "\n",
    "            quan_Data.append(columnInformation);\n",
    "            \n",
    "    return qual_Data, quan_Data;\n",
    "\n",
    "putQualitativeQuantitative();\n",
    "\n"
   ]
  },
  {
   "cell_type": "markdown",
   "id": "c6c28f91",
   "metadata": {},
   "source": [
    "## Assign function to the respective variables."
   ]
  },
  {
   "cell_type": "code",
   "execution_count": 15,
   "id": "0e6680c9",
   "metadata": {},
   "outputs": [
    {
     "name": "stdout",
     "output_type": "stream",
     "text": [
      "sl_no\n",
      "gender\n",
      "ssc_p\n",
      "ssc_b\n",
      "hsc_p\n",
      "hsc_b\n",
      "hsc_s\n",
      "degree_p\n",
      "degree_t\n",
      "workex\n",
      "etest_p\n",
      "specialisation\n",
      "mba_p\n",
      "status\n",
      "salary\n"
     ]
    }
   ],
   "source": [
    "qualitativeValue, quantitativeValue = putQualitativeQuantitative();\n"
   ]
  },
  {
   "cell_type": "code",
   "execution_count": 16,
   "id": "215900b4",
   "metadata": {},
   "outputs": [
    {
     "data": {
      "text/plain": [
       "(['gender',\n",
       "  'ssc_b',\n",
       "  'hsc_b',\n",
       "  'hsc_s',\n",
       "  'degree_t',\n",
       "  'workex',\n",
       "  'specialisation',\n",
       "  'status'],\n",
       " ['sl_no', 'ssc_p', 'hsc_p', 'degree_p', 'etest_p', 'mba_p', 'salary'])"
      ]
     },
     "execution_count": 16,
     "metadata": {},
     "output_type": "execute_result"
    }
   ],
   "source": [
    "qualitativeValue, quantitativeValue"
   ]
  },
  {
   "cell_type": "markdown",
   "id": "9386ef34",
   "metadata": {},
   "source": [
    "## Qualitative columns"
   ]
  },
  {
   "cell_type": "code",
   "execution_count": 17,
   "id": "27cfa2ac",
   "metadata": {},
   "outputs": [
    {
     "name": "stdout",
     "output_type": "stream",
     "text": [
      "['gender', 'ssc_b', 'hsc_b', 'hsc_s', 'degree_t', 'workex', 'specialisation', 'status']\n"
     ]
    }
   ],
   "source": [
    "print(qualitativeValue);"
   ]
  },
  {
   "cell_type": "markdown",
   "id": "829b17c2",
   "metadata": {},
   "source": [
    "## Quantitative columns"
   ]
  },
  {
   "cell_type": "code",
   "execution_count": 18,
   "id": "d4210224",
   "metadata": {},
   "outputs": [
    {
     "name": "stdout",
     "output_type": "stream",
     "text": [
      "['sl_no', 'ssc_p', 'hsc_p', 'degree_p', 'etest_p', 'mba_p', 'salary']\n"
     ]
    }
   ],
   "source": [
    "print(quantitativeValue);"
   ]
  },
  {
   "cell_type": "markdown",
   "id": "aeb2463e",
   "metadata": {},
   "source": [
    "## Set parameter(argument) for the respective function."
   ]
  },
  {
   "cell_type": "code",
   "execution_count": 19,
   "id": "5ae4f92e",
   "metadata": {},
   "outputs": [
    {
     "name": "stdout",
     "output_type": "stream",
     "text": [
      "sl_no\n",
      "gender\n",
      "ssc_p\n",
      "ssc_b\n",
      "hsc_p\n",
      "hsc_b\n",
      "hsc_s\n",
      "degree_p\n",
      "degree_t\n",
      "workex\n",
      "etest_p\n",
      "specialisation\n",
      "mba_p\n",
      "status\n",
      "salary\n"
     ]
    }
   ],
   "source": [
    "def putQualitativeQuantitative(rawData):\n",
    "    \n",
    "    qual_Data = [];\n",
    "\n",
    "    quan_Data = [];\n",
    "\n",
    "    for columnInformation in rawData.columns:\n",
    "\n",
    "        print(columnInformation);\n",
    "\n",
    "        if(rawData[columnInformation].dtypes == \"O\"):\n",
    "\n",
    "            qual_Data.append(columnInformation);\n",
    "\n",
    "        else:\n",
    "\n",
    "            quan_Data.append(columnInformation);\n",
    "            \n",
    "    return qual_Data, quan_Data;\n",
    "\n",
    "putQualitativeQuantitative(rawData);\n",
    "\n"
   ]
  },
  {
   "cell_type": "markdown",
   "id": "dd61eef1",
   "metadata": {},
   "source": [
    "## Creating a class for the respective function."
   ]
  },
  {
   "cell_type": "code",
   "execution_count": 20,
   "id": "9688e864",
   "metadata": {},
   "outputs": [
    {
     "name": "stdout",
     "output_type": "stream",
     "text": [
      "sl_no\n",
      "gender\n",
      "ssc_p\n",
      "ssc_b\n",
      "hsc_p\n",
      "hsc_b\n",
      "hsc_s\n",
      "degree_p\n",
      "degree_t\n",
      "workex\n",
      "etest_p\n",
      "specialisation\n",
      "mba_p\n",
      "status\n",
      "salary\n"
     ]
    }
   ],
   "source": [
    "class univariateStudentData():\n",
    "    \n",
    "    def putQualitativeQuantitative(rawData):\n",
    "    \n",
    "        qual_Data = [];\n",
    "\n",
    "        quan_Data = [];\n",
    "\n",
    "        for columnInformation in rawData.columns:\n",
    "\n",
    "            print(columnInformation);\n",
    "\n",
    "            if(rawData[columnInformation].dtypes == \"O\"):\n",
    "\n",
    "                qual_Data.append(columnInformation);\n",
    "\n",
    "            else:\n",
    "\n",
    "                quan_Data.append(columnInformation);\n",
    "\n",
    "        return qual_Data, quan_Data;\n",
    "\n",
    "    putQualitativeQuantitative(rawData);\n",
    "\n",
    "\n",
    "    "
   ]
  }
 ],
 "metadata": {
  "kernelspec": {
   "display_name": "Python 3 (ipykernel)",
   "language": "python",
   "name": "python3"
  },
  "language_info": {
   "codemirror_mode": {
    "name": "ipython",
    "version": 3
   },
   "file_extension": ".py",
   "mimetype": "text/x-python",
   "name": "python",
   "nbconvert_exporter": "python",
   "pygments_lexer": "ipython3",
   "version": "3.7.6"
  }
 },
 "nbformat": 4,
 "nbformat_minor": 5
}
