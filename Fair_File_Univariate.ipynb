{
 "cells": [
  {
   "cell_type": "markdown",
   "id": "501f254e",
   "metadata": {},
   "source": [
    "\n",
    "# Kowshik P \n",
    "\n",
    "## Data Science \n",
    "## Fair file for Deployment \n",
    "## -----------------------------------------------------------------------------\n",
    "## Concept - Univariate Data Analysis(Qualitative and Quantitative)\n",
    "## Submitted date on 07-May-2022\n",
    "## -----------------------------------------------------------------------------\n"
   ]
  },
  {
   "cell_type": "code",
   "execution_count": 1,
   "id": "892bae6a",
   "metadata": {},
   "outputs": [],
   "source": [
    "import pandas as pd;"
   ]
  },
  {
   "cell_type": "code",
   "execution_count": 2,
   "id": "d2625276",
   "metadata": {},
   "outputs": [],
   "source": [
    "rawData = pd.read_csv(\"Placement.csv\");\n",
    "\n",
    "#rawData"
   ]
  },
  {
   "cell_type": "markdown",
   "id": "c5986c4d",
   "metadata": {},
   "source": [
    "## Call the class from the respective repository"
   ]
  },
  {
   "cell_type": "code",
   "execution_count": 3,
   "id": "a8a90029",
   "metadata": {},
   "outputs": [],
   "source": [
    "from py_univariate import univariateStudentData"
   ]
  },
  {
   "cell_type": "code",
   "execution_count": 4,
   "id": "1eb1003e",
   "metadata": {},
   "outputs": [],
   "source": [
    "objectClass = univariateStudentData()"
   ]
  },
  {
   "cell_type": "code",
   "execution_count": 5,
   "id": "331421a8",
   "metadata": {},
   "outputs": [
    {
     "name": "stdout",
     "output_type": "stream",
     "text": [
      "sl_no\n",
      "gender\n",
      "ssc_p\n",
      "ssc_b\n",
      "hsc_p\n",
      "hsc_b\n",
      "hsc_s\n",
      "degree_p\n",
      "degree_t\n",
      "workex\n",
      "etest_p\n",
      "specialisation\n",
      "mba_p\n",
      "status\n",
      "salary\n"
     ]
    }
   ],
   "source": [
    "qualitativeData, quantitativeData = objectClass.putQualitativeQuantitative(rawData);"
   ]
  },
  {
   "cell_type": "markdown",
   "id": "2dec9430",
   "metadata": {},
   "source": [
    "## Qualitative columns "
   ]
  },
  {
   "cell_type": "code",
   "execution_count": 6,
   "id": "073fa920",
   "metadata": {},
   "outputs": [
    {
     "name": "stdout",
     "output_type": "stream",
     "text": [
      "['gender', 'ssc_b', 'hsc_b', 'hsc_s', 'degree_t', 'workex', 'specialisation', 'status']\n"
     ]
    }
   ],
   "source": [
    "print(qualitativeData);"
   ]
  },
  {
   "cell_type": "markdown",
   "id": "ed2a6324",
   "metadata": {},
   "source": [
    "## Quantitative columns"
   ]
  },
  {
   "cell_type": "code",
   "execution_count": 7,
   "id": "bd3615bf",
   "metadata": {},
   "outputs": [
    {
     "name": "stdout",
     "output_type": "stream",
     "text": [
      "['sl_no', 'ssc_p', 'hsc_p', 'degree_p', 'etest_p', 'mba_p', 'salary']\n"
     ]
    }
   ],
   "source": [
    "print(quantitativeData);"
   ]
  }
 ],
 "metadata": {
  "kernelspec": {
   "display_name": "Python 3 (ipykernel)",
   "language": "python",
   "name": "python3"
  },
  "language_info": {
   "codemirror_mode": {
    "name": "ipython",
    "version": 3
   },
   "file_extension": ".py",
   "mimetype": "text/x-python",
   "name": "python",
   "nbconvert_exporter": "python",
   "pygments_lexer": "ipython3",
   "version": "3.7.6"
  }
 },
 "nbformat": 4,
 "nbformat_minor": 5
}
